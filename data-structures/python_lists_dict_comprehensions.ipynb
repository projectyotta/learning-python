{
 "cells": [
  {
   "cell_type": "code",
   "execution_count": 75,
   "metadata": {},
   "outputs": [
    {
     "name": "stdout",
     "output_type": "stream",
     "text": [
      "['dank', 'lulz', 'wow', 'amaze']\n",
      "dank\n",
      "wow\n",
      "\n"
     ]
    }
   ],
   "source": [
    "data_list = [\"dank\",\"lulz\",\"wow\",\"amaze\"]\n",
    "print(data_list)\n",
    "print(data_list[0])\n",
    "print(data_list[2])\n",
    "print (\"\")\n"
   ]
  },
  {
   "cell_type": "code",
   "execution_count": 51,
   "metadata": {},
   "outputs": [
    {
     "name": "stdout",
     "output_type": "stream",
     "text": [
      "['dank666', 'memes666', 'wow666', 'amaze']\n",
      "['dank', [666, 69], 1]\n"
     ]
    }
   ],
   "source": [
    "\n",
    "# can also append stuff to existing list \n",
    "\n",
    "for i in range(3):\n",
    "    data_list[i]=data_list[i]+\"666\"\n",
    "print (data_list)\n",
    "\n",
    "# no need to have all data types same \n",
    "\n",
    "mix = [\"dank\",[666,69],1]\n",
    "print (mix) \n"
   ]
  },
  {
   "cell_type": "code",
   "execution_count": 56,
   "metadata": {},
   "outputs": [
    {
     "name": "stdout",
     "output_type": "stream",
     "text": [
      "[1, 4, 9, 16, 25, 36]\n",
      "[4, 9]\n",
      "[1, 4, 9, 16, 25, 36]\n",
      "25\n"
     ]
    }
   ],
   "source": [
    "#accessing elements in the list\n",
    "squares=[1,4,9,16,25,36]\n",
    "print(squares)\n",
    "print(squares[1:3])\n",
    "print(squares[:])\n",
    "print(squares[-2])    "
   ]
  },
  {
   "cell_type": "code",
   "execution_count": 55,
   "metadata": {},
   "outputs": [
    {
     "name": "stdout",
     "output_type": "stream",
     "text": [
      "Element: 0\n",
      "Element: 1\n",
      "Element: 4\n",
      "Element: 9\n",
      "Element: 16\n",
      "Element: 25\n",
      "Element: 36\n",
      "Element: 49\n",
      "Element: 64\n",
      "Element: 81\n",
      "\n",
      "Element: 0 --> 0\n",
      "Element: 1 --> 1\n",
      "Element: 2 --> 4\n",
      "Element: 3 --> 9\n",
      "Element: 4 --> 16\n",
      "Element: 5 --> 25\n",
      "Element: 6 --> 36\n",
      "Element: 7 --> 49\n",
      "Element: 8 --> 64\n",
      "Element: 9 --> 81\n"
     ]
    }
   ],
   "source": [
    "#looping through the list elements \n",
    "for value in squares:\n",
    "    print(\"Element:\",value)\n",
    "\n",
    "print(\"\")\n",
    "    \n",
    "#looping through the list elements and indices using enumerate \n",
    "for ind,value in enumerate(squares):\n",
    "    print(\"Element:\",ind, \"-->\",value)\n"
   ]
  },
  {
   "cell_type": "code",
   "execution_count": 57,
   "metadata": {},
   "outputs": [
    {
     "name": "stdout",
     "output_type": "stream",
     "text": [
      "{'United States': 'Washington DC', 'India': 'New Delhi', 'Bangladesh': 'Dhaka', 'Spain': 'Madrid'}\n",
      "\n",
      "True\n"
     ]
    }
   ],
   "source": [
    "#dictionaries are denoted by curly braces , with items seperated by commas \n",
    "capitals = {'United States':'Washington DC','India':'New Delhi', 'Bangladesh':'Dhaka'}\n",
    "#similar to lists , values here are accessed with a square bracket notation , but here , we will use a key \n",
    "#very important to understand the concept of key value pairs \n",
    "capitals['India']\n",
    "\n",
    "# add an item \n",
    "capitals['Spain']='Madrid'\n",
    "\n",
    "print(capitals)\n",
    "\n",
    "print(\"\")\n",
    "#if you want to see if a key value exists or not , \n",
    "print('India' in capitals) #gives you a true / false value as output \n"
   ]
  },
  {
   "cell_type": "code",
   "execution_count": 36,
   "metadata": {},
   "outputs": [
    {
     "data": {
      "text/plain": [
       "{'France': 'Paris',\n",
       " 'Germany': 'Berlin',\n",
       " 'Netherlands': 'Amstredam',\n",
       " 'UK': 'London'}"
      ]
     },
     "execution_count": 36,
     "metadata": {},
     "output_type": "execute_result"
    }
   ],
   "source": [
    "#now say you want to create another dictionary with more capitals \n",
    "morecapitals = {'Germany':'Berlin','UK':'London','France':'Paris','Netherlands':'Amstredam'}\n",
    "morecapitals"
   ]
  },
  {
   "cell_type": "code",
   "execution_count": 37,
   "metadata": {},
   "outputs": [
    {
     "data": {
      "text/plain": [
       "{'Bangladesh': 'Dhaka',\n",
       " 'France': 'Paris',\n",
       " 'Germany': 'Berlin',\n",
       " 'India': 'New Delhi',\n",
       " 'Netherlands': 'Amstredam',\n",
       " 'Spain': 'Madrid',\n",
       " 'UK': 'London',\n",
       " 'United States': 'Washington DC'}"
      ]
     },
     "execution_count": 37,
     "metadata": {},
     "output_type": "execute_result"
    }
   ],
   "source": [
    "#update capitals and add morecapitals to it \n",
    "capitals.update(morecapitals)\n",
    "capitals\n",
    "# delete items using del and identifying them by their key "
   ]
  },
  {
   "cell_type": "code",
   "execution_count": 46,
   "metadata": {},
   "outputs": [
    {
     "name": "stdout",
     "output_type": "stream",
     "text": [
      "United States Washington DC\n",
      "India New Delhi\n",
      "Bangladesh Dhaka\n",
      "Spain Madrid\n",
      "Germany Berlin\n",
      "UK London\n",
      "France Paris\n",
      "Netherlands Amstredam\n",
      "\n",
      "United States\n",
      "India\n",
      "Bangladesh\n",
      "Spain\n",
      "Germany\n",
      "UK\n",
      "France\n",
      "Netherlands\n",
      "\n",
      "Washington DC\n",
      "New Delhi\n",
      "Dhaka\n",
      "Madrid\n",
      "Berlin\n",
      "London\n",
      "Paris\n",
      "Amstredam\n",
      "\n",
      "United States -> Washington DC\n",
      "India -> New Delhi\n",
      "Bangladesh -> Dhaka\n",
      "Spain -> Madrid\n",
      "Germany -> Berlin\n",
      "UK -> London\n",
      "France -> Paris\n",
      "Netherlands -> Amstredam\n"
     ]
    }
   ],
   "source": [
    "# looping in dictionaries \n",
    "# method 1 , just mention the key \n",
    "for key in capitals :\n",
    "    print(key,capitals[key])\n",
    "\n",
    "print(\"\")    \n",
    "    \n",
    "# method 2 , be more explicit \n",
    "\n",
    "for key in capitals.keys():\n",
    "    print (key)   # if you want only keys \n",
    "\n",
    "print (\"\")\n",
    "\n",
    "for key in capitals.values():\n",
    "    print(key) # if you want only values \n",
    "\n",
    "print(\"\")\n",
    "\n",
    "for key,value in capitals.items():\n",
    "    print(key,\"->\",value)"
   ]
  },
  {
   "cell_type": "code",
   "execution_count": 47,
   "metadata": {
    "collapsed": true
   },
   "outputs": [],
   "source": [
    "#comprehensions - more intuitive , easier to manipulate "
   ]
  },
  {
   "cell_type": "code",
   "execution_count": 49,
   "metadata": {},
   "outputs": [
    {
     "name": "stdout",
     "output_type": "stream",
     "text": [
      "[0, 1, 4, 9, 16, 25, 36, 49, 64, 81]\n",
      "\n"
     ]
    }
   ],
   "source": [
    "squares = []  # create an empty list \n",
    "for i in range(10): \n",
    "    squares.append(i**2)\n",
    "print(squares)\n",
    "print(\"\")"
   ]
  },
  {
   "cell_type": "code",
   "execution_count": 58,
   "metadata": {},
   "outputs": [
    {
     "name": "stdout",
     "output_type": "stream",
     "text": [
      "[0, 9, 36, 81, 144, 225, 324, 441, 576, 729]\n"
     ]
    }
   ],
   "source": [
    "# you also have the option of mentioning a condition inline . pretty neat . \n",
    "\n",
    "# go through first thirty numbers , choose the ones where % 3 == 0 and then square them\n",
    "squares2 = [i**2 for i in range(30) if i%3 == 0] \n",
    "print(squares2)"
   ]
  },
  {
   "cell_type": "code",
   "execution_count": 67,
   "metadata": {},
   "outputs": [
    {
     "name": "stdout",
     "output_type": "stream",
     "text": [
      "{0: 0, 3: 9, 6: 36, 9: 81, 12: 144, 15: 225, 18: 324, 21: 441, 24: 576, 27: 729}\n",
      "\n",
      "0\n",
      "3\n",
      "6\n",
      "9\n",
      "12\n",
      "15\n",
      "18\n",
      "21\n",
      "24\n",
      "27\n"
     ]
    }
   ],
   "source": [
    "# now use this in a dict \n",
    "squares2_dict = {i: i**2 for i in range(30) if i%3 == 0}\n",
    "print(squares2_dict)\n",
    "print(\"\")\n",
    "\n",
    "for key in squares2_dict:\n",
    "    print(key)"
   ]
  },
  {
   "cell_type": "code",
   "execution_count": 74,
   "metadata": {},
   "outputs": [
    {
     "name": "stdout",
     "output_type": "stream",
     "text": [
      "{'Washington DC': 'United States', 'New Delhi': 'India', 'Dhaka': 'Bangladesh', 'Madrid': 'Spain'}\n"
     ]
    }
   ],
   "source": [
    "# we are going to use capitals again \n",
    "capitals_bycapital = {capitals[key]: key for key in capitals}\n",
    "print (capitals_bycapital)"
   ]
  },
  {
   "cell_type": "code",
   "execution_count": 84,
   "metadata": {},
   "outputs": [
    {
     "name": "stdout",
     "output_type": "stream",
     "text": [
      "285\n",
      "\n",
      "285\n"
     ]
    }
   ],
   "source": [
    "'''generator expressions -  we use this concept when you want to perform some kind of operations on the comprehension. \n",
    "Here , we will be getting the sum of the squares of numbers'''\n",
    "\n",
    "# normally , we would do it like this \n",
    "print(sum([i**2 for i in range(10)]))\n",
    "\n",
    "print(\"\")\n",
    "\n",
    "# we can do the same thing using a python generator \n",
    "# this would look very similar to the one above , just omit the brackets \n",
    "print(sum(i**2 for i in range(10)))\n",
    "\n",
    "# the second method is way more efficient , can be used to save memory and time"
   ]
  },
  {
   "cell_type": "code",
   "execution_count": null,
   "metadata": {
    "collapsed": true
   },
   "outputs": [],
   "source": []
  }
 ],
 "metadata": {
  "kernelspec": {
   "display_name": "Python 3",
   "language": "python",
   "name": "python3"
  },
  "language_info": {
   "codemirror_mode": {
    "name": "ipython",
    "version": 3
   },
   "file_extension": ".py",
   "mimetype": "text/x-python",
   "name": "python",
   "nbconvert_exporter": "python",
   "pygments_lexer": "ipython3",
   "version": "3.6.1"
  }
 },
 "nbformat": 4,
 "nbformat_minor": 2
}
